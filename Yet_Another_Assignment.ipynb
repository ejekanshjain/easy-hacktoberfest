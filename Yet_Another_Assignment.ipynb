{
  "nbformat": 4,
  "nbformat_minor": 0,
  "metadata": {
    "colab": {
      "provenance": [],
      "authorship_tag": "ABX9TyMrCqzR/lKRq2wbF6q1VjUM",
      "include_colab_link": true
    },
    "kernelspec": {
      "name": "python3",
      "display_name": "Python 3"
    },
    "language_info": {
      "name": "python"
    }
  },
  "cells": [
    {
      "cell_type": "markdown",
      "metadata": {
        "id": "view-in-github",
        "colab_type": "text"
      },
      "source": [
        "<a href=\"https://colab.research.google.com/github/ejekanshjain/easy-hacktoberfest/blob/main/Yet_Another_Assignment.ipynb\" target=\"_parent\"><img src=\"https://colab.research.google.com/assets/colab-badge.svg\" alt=\"Open In Colab\"/></a>"
      ]
    },
    {
      "cell_type": "code",
      "source": [
        "import multiprocessing\n",
        "import numpy as np\n",
        "from scipy.spatial import cKDTree\n",
        "\n",
        "\n",
        "def calculate_nearest_neighbors(xyz_frame):\n",
        "  \"\"\"Calculates the nearest neighbors for a single xyz frame.\n",
        "\n",
        "  Args:\n",
        "    xyz_frame: A numpy array of shape (n_atoms, 3), where n_atoms is the number of atoms in the frame.\n",
        "\n",
        "  Returns:\n",
        "    A numpy array of shape (n_atoms, k_neighbors), where k_neighbors is the number of nearest neighbors.\n",
        "  \"\"\"\n",
        "\n",
        "  # Create a kd-tree from the xyz frame.\n",
        "  kdtree = cKDTree(xyz_frame)\n",
        "\n",
        "  # Find the k nearest neighbors for each atom in the frame.\n",
        "  k_neighbors = 10  # Number of nearest neighbors.\n",
        "  distances, indices = kdtree.query(xyz_frame, k=k_neighbors)\n",
        "\n",
        "  return indices\n",
        "\n",
        "\n",
        "def main():\n",
        "  \"\"\"Calculates the nearest neighbors for the first 1500 frames in the xyz file.\n",
        "\n",
        "  Returns:\n",
        "    None.\n",
        "  \"\"\"\n",
        "\n",
        "  # Read the xyz file.\n",
        "  xyz_file = open(\"/content/Copy of md_test.xyz\", \"r\")\n",
        "  xyz_frames = []\n",
        "  for line in xyz_file:\n",
        "    if len(line) > 0:\n",
        "      if not line.split()[0].isnumeric():\n",
        "        continue\n",
        "      xyz_frames.append(np.array([line.split()[:3]], dtype=float))\n",
        "\n",
        "  # Close the xyz file.\n",
        "  xyz_file.close()\n",
        "\n",
        "  # Create a multiprocessing pool.\n",
        "  pool = multiprocessing.Pool()\n",
        "\n",
        "  # Calculate the nearest neighbors for each frame.\n",
        "  nearest_neighbors_frames = pool.map(calculate_nearest_neighbors, xyz_frames)\n",
        "\n",
        "  # Close the multiprocessing pool.\n",
        "  pool.close()\n",
        "  pool.join()\n",
        "\n",
        "  # Save the nearest neighbors frames to a file.\n",
        "  nearest_neighbors_file = open(\"nearest_neighbors.xyz\", \"w\")\n",
        "  for nearest_neighbors_frame in nearest_neighbors_frames:\n",
        "    for nearest_neighbor in nearest_neighbors_frame:\n",
        "      nearest_neighbors_file.write(str(nearest_neighbor) + \"\\n\")\n",
        "\n",
        "  # Close the nearest neighbors file.\n",
        "  nearest_neighbors_file.close()\n",
        "\n",
        "\n",
        "if __name__ == \"__main__\":\n",
        "  main()\n"
      ],
      "metadata": {
        "id": "YHadcnF5jC2W"
      },
      "execution_count": null,
      "outputs": []
    }
  ]
}